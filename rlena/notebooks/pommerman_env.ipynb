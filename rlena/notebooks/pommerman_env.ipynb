{
 "cells": [
  {
   "cell_type": "code",
   "execution_count": 5,
   "id": "9db27e97",
   "metadata": {},
   "outputs": [
    {
     "name": "stdout",
     "output_type": "stream",
     "text": [
      "['PommeFFACompetition-v0', 'PommeFFACompetitionFast-v0', 'PommeFFAFast-v0', 'PommeFFA-v1', 'OneVsOne-v0', 'PommeRadioCompetition-v2', 'PommeRadio-v2', 'PommeTeamCompetition-v0', 'PommeTeamCompetitionFast-v0', 'PommeTeamCompetition-v1', 'PommeTeam-v0', 'PommeTeamFast-v0']\n"
     ]
    }
   ],
   "source": [
    "import pommerman\n",
    "from pommerman import agents, make\n",
    "\n",
    "print(pommerman.REGISTRY)"
   ]
  },
  {
   "cell_type": "code",
   "execution_count": 12,
   "id": "05d3fefc",
   "metadata": {},
   "outputs": [
    {
     "data": {
      "text/plain": [
       "FullArgSpec(args=['config_id', 'agent_list', 'game_state_file', 'render_mode'], varargs=None, varkw=None, defaults=(None, 'human'), kwonlyargs=[], kwonlydefaults=None, annotations={})"
      ]
     },
     "execution_count": 12,
     "metadata": {},
     "output_type": "execute_result"
    }
   ],
   "source": [
    "import inspect\n",
    "\n",
    "inspect.getfullargspec(make)"
   ]
  },
  {
   "cell_type": "code",
   "execution_count": 14,
   "id": "1673a639",
   "metadata": {
    "scrolled": true
   },
   "outputs": [
    {
     "name": "stdout",
     "output_type": "stream",
     "text": [
      "def make(config_id, agent_list, game_state_file=None, render_mode='human'):\n",
      "    '''Makes the pommerman env and registers it with gym'''\n",
      "    assert config_id in REGISTRY, \"Unknown configuration '{}'. \" \\\n",
      "        \"Possible values: {}\".format(config_id, REGISTRY)\n",
      "    env = gym.make(config_id)\n",
      "\n",
      "    for id_, agent in enumerate(agent_list):\n",
      "        assert isinstance(agent, agents.BaseAgent)\n",
      "        # NOTE: This is IMPORTANT so that the agent character is initialized\n",
      "        agent.init_agent(id_, env.spec._kwargs['game_type'])\n",
      "\n",
      "    env.set_agents(agent_list)\n",
      "    env.set_init_game_state(game_state_file)\n",
      "    env.set_render_mode(render_mode)\n",
      "    return env\n",
      "\n"
     ]
    }
   ],
   "source": [
    "print(inspect.getsource(make))"
   ]
  },
  {
   "cell_type": "markdown",
   "id": "219d67d3",
   "metadata": {},
   "source": [
    "## How does the environment work?\n",
    "\n",
    "\\<class pommerman.envs.vo.Pomme\\> --> self.model = \\<class pommerman.forward_model.ForwardModel\\>\n",
    "\\<class pommerman.envs.vo.Pomme\\> --> \n"
   ]
  },
  {
   "cell_type": "code",
   "execution_count": 31,
   "id": "d9c899ba",
   "metadata": {},
   "outputs": [
    {
     "name": "stdout",
     "output_type": "stream",
     "text": [
      "    def reset(self):\n",
      "        assert (self._agents is not None)\n",
      "\n",
      "        if self._init_game_state is not None:\n",
      "            self.set_json_info()\n",
      "        else:\n",
      "            self._step_count = 0\n",
      "            self.make_board()\n",
      "            self.make_items()\n",
      "            self._bombs = []\n",
      "            self._flames = []\n",
      "            self._powerups = []\n",
      "            for agent_id, agent in enumerate(self._agents):\n",
      "                pos = np.where(self._board == utility.agent_value(agent_id))\n",
      "                row = pos[0][0]\n",
      "                col = pos[1][0]\n",
      "                agent.set_start_position((row, col))\n",
      "                agent.reset()\n",
      "\n",
      "        return self.get_observations()\n",
      "\n",
      "    def get_observations(self):\n",
      "        self.observations = self.model.get_observations(\n",
      "            self._board, self._agents, self._bombs, self._flames,\n",
      "            self._is_partially_observable, self._agent_view_size,\n",
      "            self._game_type, self._env)\n",
      "        for obs in self.observations:\n",
      "            obs['step_count'] = self._step_count\n",
      "        return self.observations\n",
      "\n",
      "    def __init__(self,\n",
      "                 render_fps=None,\n",
      "                 game_type=None,\n",
      "                 board_size=None,\n",
      "                 agent_view_size=None,\n",
      "                 num_rigid=None,\n",
      "                 num_wood=None,\n",
      "                 num_items=None,\n",
      "                 max_steps=1000,\n",
      "                 is_partially_observable=False,\n",
      "                 env=None,\n",
      "                 **kwargs):\n",
      "        self._render_fps = render_fps\n",
      "        self._intended_actions = []\n",
      "        self._agents = None\n",
      "        self._game_type = game_type\n",
      "        self._board_size = board_size\n",
      "        self._agent_view_size = agent_view_size\n",
      "        self._num_rigid = num_rigid\n",
      "        self._num_wood = num_wood\n",
      "        self._num_items = num_items\n",
      "        self._max_steps = max_steps\n",
      "        self._viewer = None\n",
      "        self._is_partially_observable = is_partially_observable\n",
      "        self._env = env\n",
      "\n",
      "        self.training_agent = None\n",
      "        self.model = forward_model.ForwardModel()\n",
      "\n",
      "        # This can be changed through set_render_mode\n",
      "        # or from the cli tool using '--render_mode=MODE_TYPE'\n",
      "        self._mode = 'human'\n",
      "\n",
      "        # Observation and Action Spaces. These are both geared towards a single\n",
      "        # agent even though the environment expects actions and returns\n",
      "        # observations for all four agents. We do this so that it's clear what\n",
      "        # the actions and obs are for a single agent. Wrt the observations,\n",
      "        # they are actually returned as a dict for easier understanding.\n",
      "        self._set_action_space()\n",
      "        self._set_observation_space()\n",
      "\n"
     ]
    }
   ],
   "source": [
    "from pommerman.envs.v0 import Pomme\n",
    "print(inspect.getsource(Pomme.reset))\n",
    "print(inspect.getsource(Pomme.get_observations))\n",
    "print(inspect.getsource(Pomme.__init__))"
   ]
  },
  {
   "cell_type": "code",
   "execution_count": 19,
   "id": "174b1585",
   "metadata": {},
   "outputs": [],
   "source": [
    "env = make('OneVsOne-v0',[agents.SimpleAgent(), agents.SimpleAgent()])"
   ]
  },
  {
   "cell_type": "markdown",
   "id": "b754fd47",
   "metadata": {},
   "source": [
    "## observation\n",
    "- The observation is given by the get_observations method from ForwardModel. (get_observations method in the v0.py calls the get_observation method in forward_model.py\n",
    "\n",
    "- This is the global observation"
   ]
  },
  {
   "cell_type": "code",
   "execution_count": 44,
   "id": "6f4fe8a9",
   "metadata": {
    "scrolled": true
   },
   "outputs": [
    {
     "name": "stdout",
     "output_type": "stream",
     "text": [
      "[{'alive': [10, 11], 'board': array([[ 0,  2,  2,  1,  1,  0,  0,  0],\n",
      "       [ 2, 10,  0,  0,  2,  2,  0,  2],\n",
      "       [ 2,  0,  0,  2,  0,  0,  0,  0],\n",
      "       [ 1,  0,  2,  0,  2,  1,  1,  1],\n",
      "       [ 1,  2,  0,  2,  0,  2,  0,  1],\n",
      "       [ 0,  2,  0,  1,  2,  0,  0,  1],\n",
      "       [ 0,  0,  0,  1,  0,  0, 11,  1],\n",
      "       [ 0,  2,  0,  1,  1,  1,  1,  0]], dtype=uint8), 'bomb_blast_strength': array([[0., 0., 0., 0., 0., 0., 0., 0.],\n",
      "       [0., 0., 0., 0., 0., 0., 0., 0.],\n",
      "       [0., 0., 0., 0., 0., 0., 0., 0.],\n",
      "       [0., 0., 0., 0., 0., 0., 0., 0.],\n",
      "       [0., 0., 0., 0., 0., 0., 0., 0.],\n",
      "       [0., 0., 0., 0., 0., 0., 0., 0.],\n",
      "       [0., 0., 0., 0., 0., 0., 0., 0.],\n",
      "       [0., 0., 0., 0., 0., 0., 0., 0.]]), 'bomb_life': array([[0., 0., 0., 0., 0., 0., 0., 0.],\n",
      "       [0., 0., 0., 0., 0., 0., 0., 0.],\n",
      "       [0., 0., 0., 0., 0., 0., 0., 0.],\n",
      "       [0., 0., 0., 0., 0., 0., 0., 0.],\n",
      "       [0., 0., 0., 0., 0., 0., 0., 0.],\n",
      "       [0., 0., 0., 0., 0., 0., 0., 0.],\n",
      "       [0., 0., 0., 0., 0., 0., 0., 0.],\n",
      "       [0., 0., 0., 0., 0., 0., 0., 0.]]), 'bomb_moving_direction': array([[0., 0., 0., 0., 0., 0., 0., 0.],\n",
      "       [0., 0., 0., 0., 0., 0., 0., 0.],\n",
      "       [0., 0., 0., 0., 0., 0., 0., 0.],\n",
      "       [0., 0., 0., 0., 0., 0., 0., 0.],\n",
      "       [0., 0., 0., 0., 0., 0., 0., 0.],\n",
      "       [0., 0., 0., 0., 0., 0., 0., 0.],\n",
      "       [0., 0., 0., 0., 0., 0., 0., 0.],\n",
      "       [0., 0., 0., 0., 0., 0., 0., 0.]]), 'flame_life': array([[0., 0., 0., 0., 0., 0., 0., 0.],\n",
      "       [0., 0., 0., 0., 0., 0., 0., 0.],\n",
      "       [0., 0., 0., 0., 0., 0., 0., 0.],\n",
      "       [0., 0., 0., 0., 0., 0., 0., 0.],\n",
      "       [0., 0., 0., 0., 0., 0., 0., 0.],\n",
      "       [0., 0., 0., 0., 0., 0., 0., 0.],\n",
      "       [0., 0., 0., 0., 0., 0., 0., 0.],\n",
      "       [0., 0., 0., 0., 0., 0., 0., 0.]]), 'game_type': 4, 'game_env': 'pommerman.envs.v0:Pomme', 'position': (1, 1), 'blast_strength': 2, 'can_kick': False, 'teammate': <Item.AgentDummy: 9>, 'ammo': 1, 'enemies': [<Item.Agent1: 11>], 'step_count': 0}, {'alive': [10, 11], 'board': array([[ 0,  2,  2,  1,  1,  0,  0,  0],\n",
      "       [ 2, 10,  0,  0,  2,  2,  0,  2],\n",
      "       [ 2,  0,  0,  2,  0,  0,  0,  0],\n",
      "       [ 1,  0,  2,  0,  2,  1,  1,  1],\n",
      "       [ 1,  2,  0,  2,  0,  2,  0,  1],\n",
      "       [ 0,  2,  0,  1,  2,  0,  0,  1],\n",
      "       [ 0,  0,  0,  1,  0,  0, 11,  1],\n",
      "       [ 0,  2,  0,  1,  1,  1,  1,  0]], dtype=uint8), 'bomb_blast_strength': array([[0., 0., 0., 0., 0., 0., 0., 0.],\n",
      "       [0., 0., 0., 0., 0., 0., 0., 0.],\n",
      "       [0., 0., 0., 0., 0., 0., 0., 0.],\n",
      "       [0., 0., 0., 0., 0., 0., 0., 0.],\n",
      "       [0., 0., 0., 0., 0., 0., 0., 0.],\n",
      "       [0., 0., 0., 0., 0., 0., 0., 0.],\n",
      "       [0., 0., 0., 0., 0., 0., 0., 0.],\n",
      "       [0., 0., 0., 0., 0., 0., 0., 0.]]), 'bomb_life': array([[0., 0., 0., 0., 0., 0., 0., 0.],\n",
      "       [0., 0., 0., 0., 0., 0., 0., 0.],\n",
      "       [0., 0., 0., 0., 0., 0., 0., 0.],\n",
      "       [0., 0., 0., 0., 0., 0., 0., 0.],\n",
      "       [0., 0., 0., 0., 0., 0., 0., 0.],\n",
      "       [0., 0., 0., 0., 0., 0., 0., 0.],\n",
      "       [0., 0., 0., 0., 0., 0., 0., 0.],\n",
      "       [0., 0., 0., 0., 0., 0., 0., 0.]]), 'bomb_moving_direction': array([[0., 0., 0., 0., 0., 0., 0., 0.],\n",
      "       [0., 0., 0., 0., 0., 0., 0., 0.],\n",
      "       [0., 0., 0., 0., 0., 0., 0., 0.],\n",
      "       [0., 0., 0., 0., 0., 0., 0., 0.],\n",
      "       [0., 0., 0., 0., 0., 0., 0., 0.],\n",
      "       [0., 0., 0., 0., 0., 0., 0., 0.],\n",
      "       [0., 0., 0., 0., 0., 0., 0., 0.],\n",
      "       [0., 0., 0., 0., 0., 0., 0., 0.]]), 'flame_life': array([[0., 0., 0., 0., 0., 0., 0., 0.],\n",
      "       [0., 0., 0., 0., 0., 0., 0., 0.],\n",
      "       [0., 0., 0., 0., 0., 0., 0., 0.],\n",
      "       [0., 0., 0., 0., 0., 0., 0., 0.],\n",
      "       [0., 0., 0., 0., 0., 0., 0., 0.],\n",
      "       [0., 0., 0., 0., 0., 0., 0., 0.],\n",
      "       [0., 0., 0., 0., 0., 0., 0., 0.],\n",
      "       [0., 0., 0., 0., 0., 0., 0., 0.]]), 'game_type': 4, 'game_env': 'pommerman.envs.v0:Pomme', 'position': (6, 6), 'blast_strength': 2, 'can_kick': False, 'teammate': <Item.AgentDummy: 9>, 'ammo': 1, 'enemies': [<Item.Agent0: 10>], 'step_count': 0}]\n"
     ]
    }
   ],
   "source": [
    "state = env.reset()\n",
    "print(state)\n",
    "env.render()\n",
    "done = False\n"
   ]
  },
  {
   "cell_type": "code",
   "execution_count": 47,
   "id": "9ffa02c3",
   "metadata": {},
   "outputs": [
    {
     "name": "stdout",
     "output_type": "stream",
     "text": [
      "[4, 1]\n",
      "[[{'alive': [10, 11],\n",
      "   'ammo': 0,\n",
      "   'blast_strength': 2,\n",
      "   'board': array([[ 0,  2,  2,  1,  1,  0,  0,  0],\n",
      "       [ 2,  3, 10,  0,  2,  2,  0,  2],\n",
      "       [ 2,  0,  0,  2,  0,  0,  0,  0],\n",
      "       [ 1,  0,  2,  0,  2,  1,  1,  1],\n",
      "       [ 1,  2,  0,  2,  0,  2,  0,  1],\n",
      "       [ 0,  2,  0,  1,  2, 11,  0,  1],\n",
      "       [ 0,  0,  0,  1,  0,  0,  0,  1],\n",
      "       [ 0,  2,  0,  1,  1,  1,  1,  0]], dtype=uint8),\n",
      "   'bomb_blast_strength': array([[0., 0., 0., 0., 0., 0., 0., 0.],\n",
      "       [0., 2., 0., 0., 0., 0., 0., 0.],\n",
      "       [0., 0., 0., 0., 0., 0., 0., 0.],\n",
      "       [0., 0., 0., 0., 0., 0., 0., 0.],\n",
      "       [0., 0., 0., 0., 0., 0., 0., 0.],\n",
      "       [0., 0., 0., 0., 0., 0., 0., 0.],\n",
      "       [0., 0., 0., 0., 0., 0., 0., 0.],\n",
      "       [0., 0., 0., 0., 0., 0., 0., 0.]]),\n",
      "   'bomb_life': array([[0., 0., 0., 0., 0., 0., 0., 0.],\n",
      "       [0., 8., 0., 0., 0., 0., 0., 0.],\n",
      "       [0., 0., 0., 0., 0., 0., 0., 0.],\n",
      "       [0., 0., 0., 0., 0., 0., 0., 0.],\n",
      "       [0., 0., 0., 0., 0., 0., 0., 0.],\n",
      "       [0., 0., 0., 0., 0., 0., 0., 0.],\n",
      "       [0., 0., 0., 0., 0., 0., 0., 0.],\n",
      "       [0., 0., 0., 0., 0., 0., 0., 0.]]),\n",
      "   'bomb_moving_direction': array([[0., 0., 0., 0., 0., 0., 0., 0.],\n",
      "       [0., 0., 0., 0., 0., 0., 0., 0.],\n",
      "       [0., 0., 0., 0., 0., 0., 0., 0.],\n",
      "       [0., 0., 0., 0., 0., 0., 0., 0.],\n",
      "       [0., 0., 0., 0., 0., 0., 0., 0.],\n",
      "       [0., 0., 0., 0., 0., 0., 0., 0.],\n",
      "       [0., 0., 0., 0., 0., 0., 0., 0.],\n",
      "       [0., 0., 0., 0., 0., 0., 0., 0.]]),\n",
      "   'can_kick': False,\n",
      "   'enemies': [<Item.Agent1: 11>],\n",
      "   'flame_life': array([[0., 0., 0., 0., 0., 0., 0., 0.],\n",
      "       [0., 0., 0., 0., 0., 0., 0., 0.],\n",
      "       [0., 0., 0., 0., 0., 0., 0., 0.],\n",
      "       [0., 0., 0., 0., 0., 0., 0., 0.],\n",
      "       [0., 0., 0., 0., 0., 0., 0., 0.],\n",
      "       [0., 0., 0., 0., 0., 0., 0., 0.],\n",
      "       [0., 0., 0., 0., 0., 0., 0., 0.],\n",
      "       [0., 0., 0., 0., 0., 0., 0., 0.]]),\n",
      "   'game_env': 'pommerman.envs.v0:Pomme',\n",
      "   'game_type': 4,\n",
      "   'position': (1, 2),\n",
      "   'step_count': 1,\n",
      "   'teammate': <Item.AgentDummy: 9>},\n",
      "  {'alive': [10, 11],\n",
      "   'ammo': 1,\n",
      "   'blast_strength': 2,\n",
      "   'board': array([[ 0,  2,  2,  1,  1,  0,  0,  0],\n",
      "       [ 2,  3, 10,  0,  2,  2,  0,  2],\n",
      "       [ 2,  0,  0,  2,  0,  0,  0,  0],\n",
      "       [ 1,  0,  2,  0,  2,  1,  1,  1],\n",
      "       [ 1,  2,  0,  2,  0,  2,  0,  1],\n",
      "       [ 0,  2,  0,  1,  2, 11,  0,  1],\n",
      "       [ 0,  0,  0,  1,  0,  0,  0,  1],\n",
      "       [ 0,  2,  0,  1,  1,  1,  1,  0]], dtype=uint8),\n",
      "   'bomb_blast_strength': array([[0., 0., 0., 0., 0., 0., 0., 0.],\n",
      "       [0., 2., 0., 0., 0., 0., 0., 0.],\n",
      "       [0., 0., 0., 0., 0., 0., 0., 0.],\n",
      "       [0., 0., 0., 0., 0., 0., 0., 0.],\n",
      "       [0., 0., 0., 0., 0., 0., 0., 0.],\n",
      "       [0., 0., 0., 0., 0., 0., 0., 0.],\n",
      "       [0., 0., 0., 0., 0., 0., 0., 0.],\n",
      "       [0., 0., 0., 0., 0., 0., 0., 0.]]),\n",
      "   'bomb_life': array([[0., 0., 0., 0., 0., 0., 0., 0.],\n",
      "       [0., 8., 0., 0., 0., 0., 0., 0.],\n",
      "       [0., 0., 0., 0., 0., 0., 0., 0.],\n",
      "       [0., 0., 0., 0., 0., 0., 0., 0.],\n",
      "       [0., 0., 0., 0., 0., 0., 0., 0.],\n",
      "       [0., 0., 0., 0., 0., 0., 0., 0.],\n",
      "       [0., 0., 0., 0., 0., 0., 0., 0.],\n",
      "       [0., 0., 0., 0., 0., 0., 0., 0.]]),\n",
      "   'bomb_moving_direction': array([[0., 0., 0., 0., 0., 0., 0., 0.],\n",
      "       [0., 0., 0., 0., 0., 0., 0., 0.],\n",
      "       [0., 0., 0., 0., 0., 0., 0., 0.],\n",
      "       [0., 0., 0., 0., 0., 0., 0., 0.],\n",
      "       [0., 0., 0., 0., 0., 0., 0., 0.],\n",
      "       [0., 0., 0., 0., 0., 0., 0., 0.],\n",
      "       [0., 0., 0., 0., 0., 0., 0., 0.],\n",
      "       [0., 0., 0., 0., 0., 0., 0., 0.]]),\n",
      "   'can_kick': False,\n",
      "   'enemies': [<Item.Agent0: 10>],\n",
      "   'flame_life': array([[0., 0., 0., 0., 0., 0., 0., 0.],\n",
      "       [0., 0., 0., 0., 0., 0., 0., 0.],\n",
      "       [0., 0., 0., 0., 0., 0., 0., 0.],\n",
      "       [0., 0., 0., 0., 0., 0., 0., 0.],\n",
      "       [0., 0., 0., 0., 0., 0., 0., 0.],\n",
      "       [0., 0., 0., 0., 0., 0., 0., 0.],\n",
      "       [0., 0., 0., 0., 0., 0., 0., 0.],\n",
      "       [0., 0., 0., 0., 0., 0., 0., 0.]]),\n",
      "   'game_env': 'pommerman.envs.v0:Pomme',\n",
      "   'game_type': 4,\n",
      "   'position': (5, 5),\n",
      "   'step_count': 1,\n",
      "   'teammate': <Item.AgentDummy: 9>}],\n",
      " [0, 0],\n",
      " False,\n",
      " {'result': <Result.Incomplete: 3>}]\n"
     ]
    }
   ],
   "source": [
    "actions = env.act(state)\n",
    "print(actions)\n",
    "state, reward, done, info = env.step(actions)\n",
    "import pprint\n",
    "pprint.pprint([state, reward, done, info])"
   ]
  },
  {
   "cell_type": "code",
   "execution_count": 48,
   "id": "4a07120f",
   "metadata": {},
   "outputs": [],
   "source": [
    "env.render()"
   ]
  },
  {
   "cell_type": "code",
   "execution_count": null,
   "id": "f95f06a3",
   "metadata": {},
   "outputs": [],
   "source": []
  }
 ],
 "metadata": {
  "kernelspec": {
   "display_name": "Python 3",
   "language": "python",
   "name": "python3"
  },
  "language_info": {
   "codemirror_mode": {
    "name": "ipython",
    "version": 3
   },
   "file_extension": ".py",
   "mimetype": "text/x-python",
   "name": "python",
   "nbconvert_exporter": "python",
   "pygments_lexer": "ipython3",
   "version": "3.7.0"
  }
 },
 "nbformat": 4,
 "nbformat_minor": 5
}
